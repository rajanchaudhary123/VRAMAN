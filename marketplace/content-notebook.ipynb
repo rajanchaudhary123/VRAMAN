{
 "cells": [
  {
   "cell_type": "code",
   "execution_count": 3,
   "id": "6fc423cb",
   "metadata": {},
   "outputs": [],
   "source": [
    "import pandas as pd\n",
    "import re\n",
    "from sklearn.feature_extraction.text import TfidfVectorizer\n",
    "from sklearn.metrics.pairwise import cosine_similarity\n",
    "import pickle\n",
    "from nltk.corpus import stopwords\n",
    "from nltk.stem import PorterStemmer\n"
   ]
  },
  {
   "cell_type": "code",
   "execution_count": 4,
   "id": "95aa5150",
   "metadata": {},
   "outputs": [],
   "source": [
    "# Load the dataset\n",
    "data = pd.read_excel('./just__test.xlsx')"
   ]
  },
  {
   "cell_type": "code",
   "execution_count": 5,
   "id": "32d1c418",
   "metadata": {},
   "outputs": [
    {
     "data": {
      "text/html": [
       "<div>\n",
       "<style scoped>\n",
       "    .dataframe tbody tr th:only-of-type {\n",
       "        vertical-align: middle;\n",
       "    }\n",
       "\n",
       "    .dataframe tbody tr th {\n",
       "        vertical-align: top;\n",
       "    }\n",
       "\n",
       "    .dataframe thead th {\n",
       "        text-align: right;\n",
       "    }\n",
       "</style>\n",
       "<table border=\"1\" class=\"dataframe\">\n",
       "  <thead>\n",
       "    <tr style=\"text-align: right;\">\n",
       "      <th></th>\n",
       "      <th>package name</th>\n",
       "      <th>description</th>\n",
       "    </tr>\n",
       "  </thead>\n",
       "  <tbody>\n",
       "    <tr>\n",
       "      <th>0</th>\n",
       "      <td>Kalinchowk Tour</td>\n",
       "      <td>Kalinchowk is recognized as the snowy paradise...</td>\n",
       "    </tr>\n",
       "    <tr>\n",
       "      <th>1</th>\n",
       "      <td>Pokhara Tour</td>\n",
       "      <td>If you are an adventure seekers person and enj...</td>\n",
       "    </tr>\n",
       "    <tr>\n",
       "      <th>2</th>\n",
       "      <td>Pokhara Ultimate Sky Adventure</td>\n",
       "      <td>Experience the thrill of soaring through the o...</td>\n",
       "    </tr>\n",
       "    <tr>\n",
       "      <th>3</th>\n",
       "      <td>Pokhara Aerial Thrills and Chills</td>\n",
       "      <td>Take your adventure to new heights with this p...</td>\n",
       "    </tr>\n",
       "    <tr>\n",
       "      <th>4</th>\n",
       "      <td>Pokhara Canyon Explorer</td>\n",
       "      <td>Brace yourself for an adrenaline-filled advent...</td>\n",
       "    </tr>\n",
       "  </tbody>\n",
       "</table>\n",
       "</div>"
      ],
      "text/plain": [
       "                        package name  \\\n",
       "0                    Kalinchowk Tour   \n",
       "1                       Pokhara Tour   \n",
       "2     Pokhara Ultimate Sky Adventure   \n",
       "3  Pokhara Aerial Thrills and Chills   \n",
       "4            Pokhara Canyon Explorer   \n",
       "\n",
       "                                         description  \n",
       "0  Kalinchowk is recognized as the snowy paradise...  \n",
       "1  If you are an adventure seekers person and enj...  \n",
       "2  Experience the thrill of soaring through the o...  \n",
       "3  Take your adventure to new heights with this p...  \n",
       "4  Brace yourself for an adrenaline-filled advent...  "
      ]
     },
     "execution_count": 5,
     "metadata": {},
     "output_type": "execute_result"
    }
   ],
   "source": [
    "data.head()\n"
   ]
  },
  {
   "cell_type": "code",
   "execution_count": 6,
   "id": "9b2183c1",
   "metadata": {},
   "outputs": [
    {
     "data": {
      "text/html": [
       "<div>\n",
       "<style scoped>\n",
       "    .dataframe tbody tr th:only-of-type {\n",
       "        vertical-align: middle;\n",
       "    }\n",
       "\n",
       "    .dataframe tbody tr th {\n",
       "        vertical-align: top;\n",
       "    }\n",
       "\n",
       "    .dataframe thead th {\n",
       "        text-align: right;\n",
       "    }\n",
       "</style>\n",
       "<table border=\"1\" class=\"dataframe\">\n",
       "  <thead>\n",
       "    <tr style=\"text-align: right;\">\n",
       "      <th></th>\n",
       "      <th>package name</th>\n",
       "      <th>description</th>\n",
       "    </tr>\n",
       "  </thead>\n",
       "  <tbody>\n",
       "    <tr>\n",
       "      <th>count</th>\n",
       "      <td>150</td>\n",
       "      <td>150</td>\n",
       "    </tr>\n",
       "    <tr>\n",
       "      <th>unique</th>\n",
       "      <td>148</td>\n",
       "      <td>150</td>\n",
       "    </tr>\n",
       "    <tr>\n",
       "      <th>top</th>\n",
       "      <td>Rara Lake Trek</td>\n",
       "      <td>Kalinchowk is recognized as the snowy paradise...</td>\n",
       "    </tr>\n",
       "    <tr>\n",
       "      <th>freq</th>\n",
       "      <td>2</td>\n",
       "      <td>1</td>\n",
       "    </tr>\n",
       "  </tbody>\n",
       "</table>\n",
       "</div>"
      ],
      "text/plain": [
       "          package name                                        description\n",
       "count              150                                                150\n",
       "unique             148                                                150\n",
       "top     Rara Lake Trek  Kalinchowk is recognized as the snowy paradise...\n",
       "freq                 2                                                  1"
      ]
     },
     "execution_count": 6,
     "metadata": {},
     "output_type": "execute_result"
    }
   ],
   "source": [
    "data.describe()"
   ]
  },
  {
   "cell_type": "code",
   "execution_count": 7,
   "id": "4351cc46",
   "metadata": {},
   "outputs": [],
   "source": [
    "# Preprocess the text data\n",
    "def preprocess_text(text):\n",
    "    # Convert to lowercase\n",
    "    text = text.lower()\n",
    "\n",
    "    # Remove special characters and punctuation\n",
    "    text = re.sub(r'[^\\w\\s]', '', text)\n",
    "\n",
    "    # Remove extra whitespaces\n",
    "    text = re.sub(r'\\s+', ' ', text)\n",
    "\n",
    "    # Tokenize the text\n",
    "    tokens = text.split()\n",
    "\n",
    "    # Remove stop words\n",
    "    stop_words = set(stopwords.words('english'))\n",
    "    tokens = [word for word in tokens if word not in stop_words]\n",
    "\n",
    "    # Apply stemming using Porter Stemmer\n",
    "    stemmer = PorterStemmer()\n",
    "    tokens = [stemmer.stem(word) for word in tokens]\n",
    "\n",
    "    # Join the tokens back into a single string\n",
    "    preprocessed_text = ' '.join(tokens)\n",
    "\n",
    "    return preprocessed_text"
   ]
  },
  {
   "cell_type": "code",
   "execution_count": 8,
   "id": "afb0e0f4",
   "metadata": {},
   "outputs": [],
   "source": [
    "# Apply preprocessing to the description column\n",
    "data['description'] = data['description'].apply(preprocess_text)"
   ]
  },
  {
   "cell_type": "code",
   "execution_count": 9,
   "id": "cc679ba1",
   "metadata": {},
   "outputs": [],
   "source": [
    "\n",
    "\n",
    "# Initialize the TF-IDF vectorizer\n",
    "tfidf_vectorizer = TfidfVectorizer()"
   ]
  },
  {
   "cell_type": "code",
   "execution_count": 10,
   "id": "443ee208",
   "metadata": {},
   "outputs": [],
   "source": [
    "# Compute the TF-IDF matrix\n",
    "tfidf_matrix = tfidf_vectorizer.fit_transform(data['description'])"
   ]
  },
  {
   "cell_type": "code",
   "execution_count": 11,
   "id": "eef63ea6",
   "metadata": {},
   "outputs": [],
   "source": [
    "# Compute the cosine similarity matrix\n",
    "cosine_similarities = cosine_similarity(tfidf_matrix, tfidf_matrix)"
   ]
  },
  {
   "cell_type": "code",
   "execution_count": 12,
   "id": "92cbd9d4",
   "metadata": {},
   "outputs": [],
   "source": [
    "# Compute the cosine similarity matrix\n",
    "cosine_similarities = cosine_similarity(tfidf_matrix, tfidf_matrix)"
   ]
  },
  {
   "cell_type": "code",
   "execution_count": 13,
   "id": "38347ddf",
   "metadata": {},
   "outputs": [
    {
     "name": "stdout",
     "output_type": "stream",
     "text": [
      "           01        02  10day  12day  14day  1day  2day      3842  3day  \\\n",
      "0    0.132938  0.132938    0.0    0.0    0.0   0.0   0.0  0.132938   0.0   \n",
      "1    0.000000  0.000000    0.0    0.0    0.0   0.0   0.0  0.000000   0.0   \n",
      "2    0.000000  0.000000    0.0    0.0    0.0   0.0   0.0  0.000000   0.0   \n",
      "3    0.000000  0.000000    0.0    0.0    0.0   0.0   0.0  0.000000   0.0   \n",
      "4    0.000000  0.000000    0.0    0.0    0.0   0.0   0.0  0.000000   0.0   \n",
      "..        ...       ...    ...    ...    ...   ...   ...       ...   ...   \n",
      "145  0.000000  0.000000    0.0    0.0    0.0   0.0   0.0  0.000000   0.0   \n",
      "146  0.000000  0.000000    0.0    0.0    0.0   0.0   0.0  0.000000   0.0   \n",
      "147  0.000000  0.000000    0.0    0.0    0.0   0.0   0.0  0.000000   0.0   \n",
      "148  0.000000  0.000000    0.0    0.0    0.0   0.0   0.0  0.000000   0.0   \n",
      "149  0.000000  0.000000    0.0    0.0    0.0   0.0   0.0  0.000000   0.0   \n",
      "\n",
      "     4day  ...  woodwork  work  workshop     world  yak  year  yoga  youll  \\\n",
      "0     0.0  ...       0.0   0.0       0.0  0.000000  0.0   0.0   0.0    0.0   \n",
      "1     0.0  ...       0.0   0.0       0.0  0.077859  0.0   0.0   0.0    0.0   \n",
      "2     0.0  ...       0.0   0.0       0.0  0.132122  0.0   0.0   0.0    0.0   \n",
      "3     0.0  ...       0.0   0.0       0.0  0.000000  0.0   0.0   0.0    0.0   \n",
      "4     0.0  ...       0.0   0.0       0.0  0.119304  0.0   0.0   0.0    0.0   \n",
      "..    ...  ...       ...   ...       ...       ...  ...   ...   ...    ...   \n",
      "145   0.0  ...       0.0   0.0       0.0  0.000000  0.0   0.0   0.0    0.0   \n",
      "146   0.0  ...       0.0   0.0       0.0  0.000000  0.0   0.0   0.0    0.0   \n",
      "147   0.0  ...       0.0   0.0       0.0  0.000000  0.0   0.0   0.0    0.0   \n",
      "148   0.0  ...       0.0   0.0       0.0  0.127465  0.0   0.0   0.0    0.0   \n",
      "149   0.0  ...       0.0   0.0       0.0  0.000000  0.0   0.0   0.0    0.0   \n",
      "\n",
      "     ziplin    zipper  \n",
      "0       0.0  0.000000  \n",
      "1       0.0  0.246435  \n",
      "2       0.0  0.209093  \n",
      "3       0.0  0.000000  \n",
      "4       0.0  0.188808  \n",
      "..      ...       ...  \n",
      "145     0.0  0.000000  \n",
      "146     0.0  0.000000  \n",
      "147     0.0  0.000000  \n",
      "148     0.0  0.000000  \n",
      "149     0.0  0.000000  \n",
      "\n",
      "[150 rows x 1021 columns]\n"
     ]
    },
    {
     "name": "stderr",
     "output_type": "stream",
     "text": [
      "C:\\Users\\CPN\\AppData\\Local\\Programs\\Python\\Python310\\lib\\site-packages\\sklearn\\utils\\deprecation.py:87: FutureWarning: Function get_feature_names is deprecated; get_feature_names is deprecated in 1.0 and will be removed in 1.2. Please use get_feature_names_out instead.\n",
      "  warnings.warn(msg, category=FutureWarning)\n"
     ]
    }
   ],
   "source": [
    "# Convert TF-IDF matrix to array\n",
    "tfidf_array = tfidf_matrix.toarray()\n",
    "\n",
    "# Create a DataFrame from the array\n",
    "tfidf_df = pd.DataFrame(tfidf_array, columns=tfidf_vectorizer.get_feature_names())\n",
    "\n",
    "# Display the DataFrame\n",
    "print(tfidf_df)"
   ]
  },
  {
   "cell_type": "code",
   "execution_count": 12,
   "id": "c3864159",
   "metadata": {},
   "outputs": [],
   "source": [
    "# Save the cosine similarity model as a pickle file\n",
    "with open('just__test_model.pkl', 'wb') as f:\n",
    "    pickle.dump(cosine_similarities, f)"
   ]
  },
  {
   "cell_type": "code",
   "execution_count": null,
   "id": "23f719bb",
   "metadata": {},
   "outputs": [],
   "source": []
  }
 ],
 "metadata": {
  "kernelspec": {
   "display_name": "Python 3 (ipykernel)",
   "language": "python",
   "name": "python3"
  },
  "language_info": {
   "codemirror_mode": {
    "name": "ipython",
    "version": 3
   },
   "file_extension": ".py",
   "mimetype": "text/x-python",
   "name": "python",
   "nbconvert_exporter": "python",
   "pygments_lexer": "ipython3",
   "version": "3.10.6"
  }
 },
 "nbformat": 4,
 "nbformat_minor": 5
}
