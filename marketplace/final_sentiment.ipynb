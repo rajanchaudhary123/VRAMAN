{
 "cells": [
  {
   "cell_type": "code",
   "execution_count": 41,
   "id": "872a720c",
   "metadata": {},
   "outputs": [],
   "source": [
    "import pandas as pd\n",
    "import numpy as np\n",
    "import nltk\n",
    "import pickle\n",
    "from sklearn.model_selection import train_test_split\n",
    "from sklearn.preprocessing import LabelEncoder\n",
    "from tensorflow.keras.preprocessing.sequence import pad_sequences\n",
    "from tensorflow.keras.models import Sequential\n",
    "from tensorflow.keras.layers import Embedding, LSTM, Dense\n",
    "from tensorflow.keras.utils import to_categorical"
   ]
  },
  {
   "cell_type": "code",
   "execution_count": 42,
   "id": "b6553954",
   "metadata": {},
   "outputs": [
    {
     "name": "stderr",
     "output_type": "stream",
     "text": [
      "[nltk_data] Downloading package punkt to\n",
      "[nltk_data]     C:\\Users\\CPN\\AppData\\Roaming\\nltk_data...\n",
      "[nltk_data]   Package punkt is already up-to-date!\n",
      "[nltk_data] Downloading package wordnet to\n",
      "[nltk_data]     C:\\Users\\CPN\\AppData\\Roaming\\nltk_data...\n",
      "[nltk_data]   Package wordnet is already up-to-date!\n"
     ]
    }
   ],
   "source": [
    "# Download NLTK resources (if not already downloaded)\n",
    "nltk.download('punkt')\n",
    "nltk.download('wordnet')\n",
    "\n",
    "from nltk.tokenize import word_tokenize\n",
    "from nltk.stem import WordNetLemmatizer"
   ]
  },
  {
   "cell_type": "code",
   "execution_count": 43,
   "id": "a4622ae4",
   "metadata": {},
   "outputs": [],
   "source": [
    "# Load the dataset\n",
    "data = pd.read_excel('./final_sentiment.xlsx')"
   ]
  },
  {
   "cell_type": "code",
   "execution_count": 44,
   "id": "04d26e2a",
   "metadata": {},
   "outputs": [
    {
     "data": {
      "text/html": [
       "<div>\n",
       "<style scoped>\n",
       "    .dataframe tbody tr th:only-of-type {\n",
       "        vertical-align: middle;\n",
       "    }\n",
       "\n",
       "    .dataframe tbody tr th {\n",
       "        vertical-align: top;\n",
       "    }\n",
       "\n",
       "    .dataframe thead th {\n",
       "        text-align: right;\n",
       "    }\n",
       "</style>\n",
       "<table border=\"1\" class=\"dataframe\">\n",
       "  <thead>\n",
       "    <tr style=\"text-align: right;\">\n",
       "      <th></th>\n",
       "      <th>Review</th>\n",
       "      <th>Sentiments</th>\n",
       "    </tr>\n",
       "  </thead>\n",
       "  <tbody>\n",
       "    <tr>\n",
       "      <th>0</th>\n",
       "      <td>I am so angry that i made this post available...</td>\n",
       "      <td>Negative</td>\n",
       "    </tr>\n",
       "    <tr>\n",
       "      <th>1</th>\n",
       "      <td>Very bad not recommended</td>\n",
       "      <td>Negative</td>\n",
       "    </tr>\n",
       "    <tr>\n",
       "      <th>2</th>\n",
       "      <td>Rooms are nice but for elderly a bit difficul...</td>\n",
       "      <td>Negative</td>\n",
       "    </tr>\n",
       "    <tr>\n",
       "      <th>3</th>\n",
       "      <td>My room was dirty and I was afraid to walk ba...</td>\n",
       "      <td>Negative</td>\n",
       "    </tr>\n",
       "    <tr>\n",
       "      <th>4</th>\n",
       "      <td>You When I booked with your company on line y...</td>\n",
       "      <td>Negative</td>\n",
       "    </tr>\n",
       "  </tbody>\n",
       "</table>\n",
       "</div>"
      ],
      "text/plain": [
       "                                              Review Sentiments\n",
       "0   I am so angry that i made this post available...   Negative\n",
       "1                           Very bad not recommended   Negative\n",
       "2   Rooms are nice but for elderly a bit difficul...   Negative\n",
       "3   My room was dirty and I was afraid to walk ba...   Negative\n",
       "4   You When I booked with your company on line y...   Negative"
      ]
     },
     "execution_count": 44,
     "metadata": {},
     "output_type": "execute_result"
    }
   ],
   "source": [
    "data.head()"
   ]
  },
  {
   "cell_type": "code",
   "execution_count": 45,
   "id": "f90b9f30",
   "metadata": {},
   "outputs": [
    {
     "data": {
      "text/html": [
       "<div>\n",
       "<style scoped>\n",
       "    .dataframe tbody tr th:only-of-type {\n",
       "        vertical-align: middle;\n",
       "    }\n",
       "\n",
       "    .dataframe tbody tr th {\n",
       "        vertical-align: top;\n",
       "    }\n",
       "\n",
       "    .dataframe thead th {\n",
       "        text-align: right;\n",
       "    }\n",
       "</style>\n",
       "<table border=\"1\" class=\"dataframe\">\n",
       "  <thead>\n",
       "    <tr style=\"text-align: right;\">\n",
       "      <th></th>\n",
       "      <th>Review</th>\n",
       "      <th>Sentiments</th>\n",
       "    </tr>\n",
       "  </thead>\n",
       "  <tbody>\n",
       "    <tr>\n",
       "      <th>count</th>\n",
       "      <td>139998</td>\n",
       "      <td>139998</td>\n",
       "    </tr>\n",
       "    <tr>\n",
       "      <th>unique</th>\n",
       "      <td>104526</td>\n",
       "      <td>2</td>\n",
       "    </tr>\n",
       "    <tr>\n",
       "      <th>top</th>\n",
       "      <td>Very bad not recommended</td>\n",
       "      <td>Negative</td>\n",
       "    </tr>\n",
       "    <tr>\n",
       "      <th>freq</th>\n",
       "      <td>12348</td>\n",
       "      <td>69999</td>\n",
       "    </tr>\n",
       "  </tbody>\n",
       "</table>\n",
       "</div>"
      ],
      "text/plain": [
       "                          Review Sentiments\n",
       "count                     139998     139998\n",
       "unique                    104526          2\n",
       "top     Very bad not recommended   Negative\n",
       "freq                       12348      69999"
      ]
     },
     "execution_count": 45,
     "metadata": {},
     "output_type": "execute_result"
    }
   ],
   "source": [
    "data.describe()"
   ]
  },
  {
   "cell_type": "code",
   "execution_count": 46,
   "id": "95c39db8",
   "metadata": {},
   "outputs": [
    {
     "data": {
      "text/html": [
       "<div>\n",
       "<style scoped>\n",
       "    .dataframe tbody tr th:only-of-type {\n",
       "        vertical-align: middle;\n",
       "    }\n",
       "\n",
       "    .dataframe tbody tr th {\n",
       "        vertical-align: top;\n",
       "    }\n",
       "\n",
       "    .dataframe thead th {\n",
       "        text-align: right;\n",
       "    }\n",
       "</style>\n",
       "<table border=\"1\" class=\"dataframe\">\n",
       "  <thead>\n",
       "    <tr style=\"text-align: right;\">\n",
       "      <th></th>\n",
       "      <th>Review</th>\n",
       "      <th>Sentiments</th>\n",
       "    </tr>\n",
       "  </thead>\n",
       "  <tbody>\n",
       "    <tr>\n",
       "      <th>139993</th>\n",
       "      <td>It was rather warm and at 10pm noisy with car...</td>\n",
       "      <td>Negative</td>\n",
       "    </tr>\n",
       "    <tr>\n",
       "      <th>139994</th>\n",
       "      <td>very small rooms tiny bed supposedly for two ...</td>\n",
       "      <td>Negative</td>\n",
       "    </tr>\n",
       "    <tr>\n",
       "      <th>139995</th>\n",
       "      <td>I disliked the package</td>\n",
       "      <td>Negative</td>\n",
       "    </tr>\n",
       "    <tr>\n",
       "      <th>139996</th>\n",
       "      <td>Very noisy heater fan and windows letting far...</td>\n",
       "      <td>Negative</td>\n",
       "    </tr>\n",
       "    <tr>\n",
       "      <th>139997</th>\n",
       "      <td>The car parking it must to be free for the cu...</td>\n",
       "      <td>Negative</td>\n",
       "    </tr>\n",
       "  </tbody>\n",
       "</table>\n",
       "</div>"
      ],
      "text/plain": [
       "                                                   Review Sentiments\n",
       "139993   It was rather warm and at 10pm noisy with car...   Negative\n",
       "139994   very small rooms tiny bed supposedly for two ...   Negative\n",
       "139995                             I disliked the package   Negative\n",
       "139996   Very noisy heater fan and windows letting far...   Negative\n",
       "139997   The car parking it must to be free for the cu...   Negative"
      ]
     },
     "execution_count": 46,
     "metadata": {},
     "output_type": "execute_result"
    }
   ],
   "source": [
    "data.tail()"
   ]
  },
  {
   "cell_type": "code",
   "execution_count": 47,
   "id": "052e7c80",
   "metadata": {},
   "outputs": [
    {
     "data": {
      "text/plain": [
       "Index(['Review', 'Sentiments'], dtype='object')"
      ]
     },
     "execution_count": 47,
     "metadata": {},
     "output_type": "execute_result"
    }
   ],
   "source": [
    "data.columns"
   ]
  },
  {
   "cell_type": "code",
   "execution_count": 48,
   "id": "4e506b7c",
   "metadata": {},
   "outputs": [],
   "source": [
    "# Map sentiment labels to numerical values\n",
    "label_encoder = LabelEncoder()\n",
    "data['Sentiments'] = label_encoder.fit_transform(data['Sentiments'])\n",
    "\n",
    "\n",
    "#num_classes = len(label_encoder.classes_)\n"
   ]
  },
  {
   "cell_type": "code",
   "execution_count": 49,
   "id": "ebbe9c8c",
   "metadata": {},
   "outputs": [],
   "source": [
    "# Preprocess the data\n",
    "lemmatizer = WordNetLemmatizer()"
   ]
  },
  {
   "cell_type": "code",
   "execution_count": 50,
   "id": "1b5b1d74",
   "metadata": {},
   "outputs": [],
   "source": [
    "def preprocess_text(text):\n",
    "    # Check if text is a string or bytes-like object\n",
    "    if isinstance(text, str):\n",
    "       \n",
    "        # Tokenize the text\n",
    "        tokens = word_tokenize(text)\n",
    "\n",
    "        # Lemmatize the tokens\n",
    "        lemmatized_tokens = [lemmatizer.lemmatize(token) for token in tokens]\n",
    "\n",
    "        # Join the tokens back into a string\n",
    "        processed_text = ' '.join(lemmatized_tokens)\n",
    "\n",
    "        return processed_text\n",
    "    else:\n",
    "        return ''  # Return an empty string for non-string inputs\n",
    "\n"
   ]
  },
  {
   "cell_type": "code",
   "execution_count": 51,
   "id": "bf98107c",
   "metadata": {},
   "outputs": [],
   "source": [
    "# Apply preprocessing to the 'Text' column\n",
    "data['Review'] = data['Review'].apply(preprocess_text)"
   ]
  },
  {
   "cell_type": "code",
   "execution_count": 52,
   "id": "0c949382",
   "metadata": {},
   "outputs": [],
   "source": [
    "# Split the data into training and testing sets\n",
    "train_data, test_data, train_labels, test_labels = train_test_split(data['Review'], data['Sentiments'], test_size=0.2, random_state=42)"
   ]
  },
  {
   "cell_type": "code",
   "execution_count": 53,
   "id": "55b9163b",
   "metadata": {},
   "outputs": [],
   "source": [
    "from keras.preprocessing.text import Tokenizer\n",
    "# Tokenize the training data\n",
    "tokenizer = Tokenizer()\n",
    "tokenizer.fit_on_texts(train_data)\n",
    "train_sequences = tokenizer.texts_to_sequences(train_data)\n",
    "#Tokenization involves converting each word in the text into a unique integer ID. 'this': 1,'is': 2,  'first': 4,"
   ]
  },
  {
   "cell_type": "code",
   "execution_count": 54,
   "id": "9e4160af",
   "metadata": {},
   "outputs": [],
   "source": [
    "# Tokenize the testing data\n",
    "test_sequences = tokenizer.texts_to_sequences(test_data)"
   ]
  },
  {
   "cell_type": "code",
   "execution_count": 56,
   "id": "afeb1c22",
   "metadata": {},
   "outputs": [],
   "source": [
    "# Pad the sequences to ensure consistent length\n",
    "max_sequence_length = 100  # Set the desired maximum sequence length\n",
    "train_sequences = pad_sequences(train_sequences, maxlen=max_sequence_length)\n",
    "test_sequences = pad_sequences(test_sequences, maxlen=max_sequence_length)\n",
    "#The tokenized sequences are padded to ensure a consistent length for each sequence. "
   ]
  },
  {
   "cell_type": "code",
   "execution_count": 57,
   "id": "38310adf",
   "metadata": {},
   "outputs": [],
   "source": [
    "# Convert labels to categorical format\n",
    "num_classes = len(label_encoder.classes_)\n",
    "train_labels_categorical = to_categorical(train_labels, num_classes=num_classes)\n",
    "test_labels_categorical = to_categorical(test_labels, num_classes=num_classes)\n",
    "\n",
    "#cat:  [1, 0, 0] dog:  [0, 1, 0] cat:  [1, 0, 0] One-hot encoding represents each label as a binary vector of the same length as the number of classes"
   ]
  },
  {
   "cell_type": "code",
   "execution_count": 58,
   "id": "201ca077",
   "metadata": {},
   "outputs": [],
   "source": [
    "# Build the LSTM model\n",
    "model = Sequential()\n",
    "model.add(Embedding(input_dim=len(tokenizer.word_index) + 1, output_dim=100, input_length=max_sequence_length))\n",
    "# we set it to 100, meaning each word will be represented as a 100-dimensional vector.\n",
    "model.add(LSTM(100))\n",
    "#The parameter 100 specifies the number of LSTM units or cells in the layer\n",
    "model.add(Dense(num_classes, activation='softmax'))\n",
    "#adds a dense layer to the model.\n",
    "#for  two classes (positive and negative), num_classes would be set to 2.\n",
    "#The softmax function applies the exponential function and normalizes the values so that they sum up to 1."
   ]
  },
  {
   "cell_type": "code",
   "execution_count": 59,
   "id": "a4c3cd1f",
   "metadata": {},
   "outputs": [],
   "source": [
    "model.compile(loss='categorical_crossentropy', optimizer='adam', metrics=['accuracy'])\n",
    "#loss = - sum(y * log(p) + (1 - y) * log(1 - p))"
   ]
  },
  {
   "cell_type": "code",
   "execution_count": 60,
   "id": "371ebb81",
   "metadata": {},
   "outputs": [
    {
     "name": "stdout",
     "output_type": "stream",
     "text": [
      "Epoch 1/10\n",
      "3500/3500 [==============================] - 462s 131ms/step - loss: 0.1651 - accuracy: 0.9399 - val_loss: 0.1320 - val_accuracy: 0.9520\n",
      "Epoch 2/10\n",
      "3500/3500 [==============================] - 637s 182ms/step - loss: 0.1150 - accuracy: 0.9603 - val_loss: 0.1281 - val_accuracy: 0.9546\n",
      "Epoch 3/10\n",
      "3500/3500 [==============================] - 643s 184ms/step - loss: 0.0983 - accuracy: 0.9662 - val_loss: 0.1303 - val_accuracy: 0.9548\n",
      "Epoch 4/10\n",
      "3500/3500 [==============================] - 477s 136ms/step - loss: 0.0844 - accuracy: 0.9709 - val_loss: 0.1351 - val_accuracy: 0.9546\n",
      "Epoch 5/10\n",
      "3500/3500 [==============================] - 419s 120ms/step - loss: 0.0743 - accuracy: 0.9744 - val_loss: 0.1442 - val_accuracy: 0.9551\n",
      "Epoch 6/10\n",
      "3500/3500 [==============================] - 436s 125ms/step - loss: 0.0649 - accuracy: 0.9771 - val_loss: 0.1563 - val_accuracy: 0.9512\n",
      "Epoch 7/10\n",
      "3500/3500 [==============================] - 1380s 394ms/step - loss: 0.0579 - accuracy: 0.9798 - val_loss: 0.1644 - val_accuracy: 0.9525\n",
      "Epoch 8/10\n",
      "3500/3500 [==============================] - 397s 114ms/step - loss: 0.0514 - accuracy: 0.9819 - val_loss: 0.1711 - val_accuracy: 0.9485\n",
      "Epoch 9/10\n",
      "3500/3500 [==============================] - 653s 187ms/step - loss: 0.0473 - accuracy: 0.9834 - val_loss: 0.1952 - val_accuracy: 0.9504\n",
      "Epoch 10/10\n",
      "3500/3500 [==============================] - 630s 180ms/step - loss: 0.0428 - accuracy: 0.9847 - val_loss: 0.2034 - val_accuracy: 0.9489\n"
     ]
    },
    {
     "data": {
      "text/plain": [
       "<keras.callbacks.History at 0x20b2fd7ad40>"
      ]
     },
     "execution_count": 60,
     "metadata": {},
     "output_type": "execute_result"
    }
   ],
   "source": [
    "# Train the model\n",
    "model.fit(train_sequences, train_labels_categorical, validation_data=(test_sequences, test_labels_categorical), epochs=10)"
   ]
  },
  {
   "cell_type": "code",
   "execution_count": 61,
   "id": "afa11ba4",
   "metadata": {},
   "outputs": [
    {
     "name": "stdout",
     "output_type": "stream",
     "text": [
      "Train Accuracy: 0.9862586855888367\n",
      "Test Accuracy: 0.9488928318023682\n"
     ]
    }
   ],
   "source": [
    "# Measure accuracy\n",
    "_, train_accuracy = model.evaluate(train_sequences, train_labels_categorical, verbose=0)\n",
    "_, test_accuracy = model.evaluate(test_sequences, test_labels_categorical, verbose=0)\n",
    "\n",
    "# Print accuracy\n",
    "print('Train Accuracy:', train_accuracy)\n",
    "print('Test Accuracy:', test_accuracy)"
   ]
  },
  {
   "cell_type": "code",
   "execution_count": 62,
   "id": "b925e9b1",
   "metadata": {},
   "outputs": [],
   "source": [
    "# Save the tokenizer and label encoder\n",
    "tokenizer_path = './tokenizer.pkl'\n",
    "with open(tokenizer_path, 'wb') as f:\n",
    "    pickle.dump(tokenizer, f)"
   ]
  },
  {
   "cell_type": "code",
   "execution_count": 63,
   "id": "0cea7a7a",
   "metadata": {},
   "outputs": [],
   "source": [
    "label_encoder_path = './label_encoder.pkl'\n",
    "with open(label_encoder_path, 'wb') as f:\n",
    "    pickle.dump(label_encoder, f)"
   ]
  },
  {
   "cell_type": "code",
   "execution_count": 64,
   "id": "0308d116",
   "metadata": {},
   "outputs": [],
   "source": [
    "# Save the trained model\n",
    "model_path = 'sentiment_model.h5'\n",
    "model.save(model_path)"
   ]
  },
  {
   "cell_type": "code",
   "execution_count": 50,
   "id": "1d036434",
   "metadata": {},
   "outputs": [
    {
     "name": "stdout",
     "output_type": "stream",
     "text": [
      "Train Accuracy: 1.0\n",
      "Test Accuracy: 0.9262697696685791\n"
     ]
    }
   ],
   "source": []
  },
  {
   "cell_type": "code",
   "execution_count": null,
   "id": "b25ab8bb",
   "metadata": {},
   "outputs": [],
   "source": []
  }
 ],
 "metadata": {
  "kernelspec": {
   "display_name": "Python 3 (ipykernel)",
   "language": "python",
   "name": "python3"
  },
  "language_info": {
   "codemirror_mode": {
    "name": "ipython",
    "version": 3
   },
   "file_extension": ".py",
   "mimetype": "text/x-python",
   "name": "python",
   "nbconvert_exporter": "python",
   "pygments_lexer": "ipython3",
   "version": "3.10.6"
  }
 },
 "nbformat": 4,
 "nbformat_minor": 5
}
